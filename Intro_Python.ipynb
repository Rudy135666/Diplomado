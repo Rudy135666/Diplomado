{
 "cells": [
  {
   "cell_type": "markdown",
   "id": "3db8c2d8",
   "metadata": {},
   "source": [
    "# 📘 Carta de Elaboración del Notebook: Introducción a Python  \n",
    "\n",
    "Este notebook fue elaborado con el objetivo de servir como una **guía introductoria y práctica al lenguaje de programación Python**, orientada a estudiantes de cualquier nivel academico, autodidactas y profesionales que deseen adentrarse en el mundo de la programación y la ciencia de datos.  \n",
    "\n",
    "## 🎯 Propósitos del notebook\n",
    "1. Brindar un **contexto histórico y filosófico** sobre el origen y evolución de Python.  \n",
    "2. Presentar de manera clara los **tipos de datos básicos y operadores** del lenguaje.  \n",
    "3. Introducir las **estructuras de datos fundamentales** (listas y diccionarios).  \n",
    "4. Explicar el uso de **librerías comunes** como `NumPy`, `Pandas` y `Matplotlib`.  \n",
    "5. Proponer **ejemplos prácticos y ejercicios resueltos** que refuercen la teoría.  \n",
    "6. Integrar **mini-proyectos** que simulan aplicaciones reales, motivando el aprendizaje aplicado.  \n",
    "\n",
    "## 🛠️ Metodología de desarrollo\n",
    "El contenido se organizó siguiendo una estructura didáctica:  \n",
    "- Cada tema incluye **explicación teórica**, ejemplos comentados y ejercicios.  \n",
    "- Se incorporaron **ejercicios resueltos paso a paso**, para que el lector no solo practique, sino que también comprenda el razonamiento detrás de cada solución.  \n",
    "- Los **mini-proyectos finales** buscan demostrar cómo los conceptos se integran en problemas reales.  \n",
    "\n",
    "\n",
    "## 🤝 Agradecimiento\n",
    "Este notebook fue diseñado con la intención de aportar a la comunidad, además que sirvio como proyecto en el Diplomado de \"Técnicas Estadísticos y Minería de Datos\" .  \n",
    "\n",
    "> \"El aprendizaje de la programación no solo abre puertas en el mundo laboral, sino que también desarrolla el pensamiento lógico y la creatividad. Python es, sin duda, una de las mejores llaves para comenzar este viaje.\"  \n",
    "\n",
    "---\n",
    "📌 **Autor:** Angel Daniel Ruiz Acuña. GitHub: Rudy135666 (https://github.com/Rudy135666)\n",
    "\n",
    "📅 **Fecha** Septiembre 2025  \n"
   ]
  },
  {
   "cell_type": "markdown",
   "id": "07610435",
   "metadata": {},
   "source": [
    "# 📖 Introducción a Python\n",
    "\n",
    "Este notebook es una guía introductoria pero completa a Python: historia, tipos de datos, operadores, estructuras de datos, librerías esenciales (NumPy, Pandas, Matplotlib), ejemplos paso a paso y ejercicios resueltos. Al final hay mini-proyectos con soluciones.\n",
    "\n",
    "---\n"
   ]
  },
  {
   "cell_type": "markdown",
   "id": "709ef472",
   "metadata": {},
   "source": [
    "## 1. Historia y contexto de Python\n",
    "\n",
    "- **Creador:** Guido van Rossum (1989–1991). Lanzamiento público en 1991.\n",
    "- **Nombre:** Se inspiró en el grupo de comedia _Monty Python_; por eso hay referencias divertidas en la comunidad.\n",
    "- **Filosofía:** ‘The Zen of Python’ — principios como “Simple es mejor que complejo”, accesibles con `import this`.\n",
    "- **Evolución:** Python 2 (muy usado hasta 2010s) y Python 3 (lanzado en 2008). Python 2 llegó a su fin de vida el 1 de enero de 2020.\n",
    "- **Usos modernos:** ciencia de datos, aprendizaje automático, desarrollo web (Django, Flask), automatización, scripting, educación.\n",
    "\n",
    "### Línea de tiempo resumida\n",
    "- 1991 — Primera versión pública\n",
    "- 2000s — Crecimiento en comunidad y librerías\n",
    "- 2008 — Python 3.0\n",
    "- 2010s — Consolidación de Python 3 y explosión en ciencia de datos\n",
    "\n",
    "### El Zen of Python (breve extracto)\n",
    "Ejecuta `import this` en una celda de código para verlo completo.\n"
   ]
  },
  {
   "cell_type": "code",
   "execution_count": 1,
   "id": "a1fd12fa",
   "metadata": {},
   "outputs": [
    {
     "name": "stdout",
     "output_type": "stream",
     "text": [
      "The Zen of Python, by Tim Peters\n",
      "\n",
      "Beautiful is better than ugly.\n",
      "Explicit is better than implicit.\n",
      "Simple is better than complex.\n",
      "Complex is better than complicated.\n",
      "Flat is better than nested.\n",
      "Sparse is better than dense.\n",
      "Readability counts.\n",
      "Special cases aren't special enough to break the rules.\n",
      "Although practicality beats purity.\n",
      "Errors should never pass silently.\n",
      "Unless explicitly silenced.\n",
      "In the face of ambiguity, refuse the temptation to guess.\n",
      "There should be one-- and preferably only one --obvious way to do it.\n",
      "Although that way may not be obvious at first unless you're Dutch.\n",
      "Now is better than never.\n",
      "Although never is often better than *right* now.\n",
      "If the implementation is hard to explain, it's a bad idea.\n",
      "If the implementation is easy to explain, it may be a good idea.\n",
      "Namespaces are one honking great idea -- let's do more of those!\n"
     ]
    }
   ],
   "source": [
    "import this"
   ]
  },
  {
   "cell_type": "markdown",
   "id": "f90a348c",
   "metadata": {},
   "source": [
    "## 2. Tipos de datos básicos\n",
    "\n",
    "En Python los valores tienen tipos. Los más usados son:\n",
    "\n",
    "- `int` — enteros\n",
    "- `float` — números decimales\n",
    "- `str` — cadenas de texto\n",
    "- `bool` — booleanos (`True`/`False`)\n",
    "\n",
    "A continuación: explicación corta, ejemplos y ejercicios resueltos.\n"
   ]
  },
  {
   "cell_type": "markdown",
   "id": "81f0334e",
   "metadata": {},
   "source": [
    "### 2.1 Enteros (`int`) y flotantes (`float`)"
   ]
  },
  {
   "cell_type": "code",
   "execution_count": 3,
   "id": "d26e028e",
   "metadata": {},
   "outputs": [
    {
     "name": "stdout",
     "output_type": "stream",
     "text": [
      "a: 7 <class 'int'>\n",
      "b: 3.5 <class 'float'>\n",
      "Suma a + b = 10.5 <class 'float'>\n",
      "a_float: 7.0 b_int (truncado): 3\n"
     ]
    }
   ],
   "source": [
    "# Enteros y flotantes: ejemplos y operaciones básicas\n",
    "a = 7          # int\n",
    "b = 3.5        # float\n",
    "\n",
    "print(\"a:\", a, type(a))\n",
    "print(\"b:\", b, type(b))\n",
    "\n",
    "# Operaciones entre int y float -> resultado float\n",
    "suma = a + b\n",
    "print(\"Suma a + b =\", suma, type(suma))\n",
    "\n",
    "# Conversión explícita\n",
    "a_float = float(a)\n",
    "b_int = int(b)  # truncamiento (no redondea)\n",
    "print(\"a_float:\", a_float, \"b_int (truncado):\", b_int)\n"
   ]
  },
  {
   "cell_type": "markdown",
   "id": "493b09e6",
   "metadata": {},
   "source": [
    "**Ejercicio resuelto 2.1:** Convertir `7.9` a entero y `15` a flotante."
   ]
  },
  {
   "cell_type": "code",
   "execution_count": 2,
   "id": "822c583c",
   "metadata": {},
   "outputs": [
    {
     "data": {
      "text/plain": [
       "(7, 15.0)"
      ]
     },
     "execution_count": 2,
     "metadata": {},
     "output_type": "execute_result"
    }
   ],
   "source": [
    "val1 = 7.9\n",
    "val2 = 15\n",
    "\n",
    "conv1 = int(val1)   # 7 (trunca)\n",
    "conv2 = float(val2) # 15.0\n",
    "\n",
    "conv1, conv2"
   ]
  },
  {
   "cell_type": "markdown",
   "id": "ee458f8e",
   "metadata": {},
   "source": [
    "### 2.2 Cadenas (`str`)"
   ]
  },
  {
   "cell_type": "code",
   "execution_count": null,
   "id": "cb6c29bc",
   "metadata": {},
   "outputs": [],
   "source": [
    "# Cadenas: creación, longitud, slicing y métodos\n",
    "texto = \"Hola, Python!\"\n",
    "print(\"Texto:\", texto)\n",
    "print(\"Longitud:\", len(texto))\n",
    "print(\"Primeros 4 caracteres:\", texto[:4])\n",
    "print(\"Mayúsculas:\", texto.upper())\n",
    "print(\"Reemplazar:\", texto.replace(\"Python\", \"mundo\"))\n",
    "\n",
    "# Concatenación y f-strings\n",
    "nombre = \"Ana\"\n",
    "edad = 25\n",
    "saludo = \"Hola, \" + nombre + \". Tienes \" + str(edad) + \" años.\"\n",
    "saludo_f = f\"Hola, {nombre}. Tienes {edad} años.\"\n",
    "saludo, saludo_f"
   ]
  },
  {
   "cell_type": "markdown",
   "id": "653d1589",
   "metadata": {},
   "source": [
    "**Ejercicio resuelto 2.2:** Dada la cadena `s = 'Data Science'`, extraer la palabra 'Science'."
   ]
  },
  {
   "cell_type": "code",
   "execution_count": null,
   "id": "e8fa43c8",
   "metadata": {},
   "outputs": [],
   "source": [
    "s = \"Data Science\"\n",
    "parte = s.split()[1]  # separa por espacios\n",
    "parte"
   ]
  },
  {
   "cell_type": "markdown",
   "id": "4a08a15e",
   "metadata": {},
   "source": [
    "### 2.3 Booleanos (`bool`) y su relación con números\n",
    "\n",
    "En Python, `True` equivale a 1 y `False` a 0 en contextos numéricos."
   ]
  },
  {
   "cell_type": "code",
   "execution_count": null,
   "id": "963e80cd",
   "metadata": {},
   "outputs": [],
   "source": [
    "x = True\n",
    "y = False\n",
    "print(\"True + 5 =\", True + 5)\n",
    "print(\"False * 10 =\", False * 10)\n",
    "print(\"Es 3 mayor que 5?\", 3 > 5)  # devuelve False (bool)\n"
   ]
  },
  {
   "cell_type": "markdown",
   "id": "622850cc",
   "metadata": {},
   "source": [
    "## 3. Operadores\n",
    "\n",
    "### Aritméticos, comparación y lógicos\n",
    "Breve explicación y luego un ejemplo integrador (mini-calculadora)."
   ]
  },
  {
   "cell_type": "code",
   "execution_count": 4,
   "id": "a270b064",
   "metadata": {},
   "outputs": [
    {
     "name": "stdout",
     "output_type": "stream",
     "text": [
      "Suma 17\n",
      "Resta 7\n",
      "Multiplicación 60\n",
      "División (float) 2.4\n",
      "División entera 2\n",
      "Módulo 2\n",
      "Potencia 248832\n",
      "Comparaciones: a > b -> True a == b -> False\n"
     ]
    }
   ],
   "source": [
    "# Ejemplo: operadores aritméticos y de comparación\n",
    "a, b = 12, 5\n",
    "print(\"Suma\", a + b)\n",
    "print(\"Resta\", a - b)\n",
    "print(\"Multiplicación\", a * b)\n",
    "print(\"División (float)\", a / b)\n",
    "print(\"División entera\", a // b)\n",
    "print(\"Módulo\", a % b)\n",
    "print(\"Potencia\", a ** b)\n",
    "print(\"Comparaciones: a > b ->\", a > b, \"a == b ->\", a == b)\n"
   ]
  },
  {
   "cell_type": "markdown",
   "id": "36da481d",
   "metadata": {},
   "source": [
    "Los valores booleanos también resultan de comparaciones entre valores.\n",
    "\n",
    "| Operador | Descripción                  | Ejemplo             | Resultado |   \n",
    "|----------|------------------------------|---------------------|-----------|\n",
    "| `==`     | ¿Son iguales a y b?          | `r = 5 == 3`        | `False`   |\n",
    "| `!=`     | ¿Son distintos a y b?        | `r = 5 != 3`        | `True`    |\n",
    "| `<`      | ¿Es a menor que b?           | `r = 5 < 3`         | `False`   |\n",
    "| `>`      | ¿Es a mayor que b?           | `r = 5 > 3`         | `True`    |\n",
    "| `<=`     | Menor o igual que            | `5 <= 5`            | `True`    |\n",
    "| `>=`     | Mayor o igual que            | `5 >= 3`            | `True`    |"
   ]
  },
  {
   "cell_type": "markdown",
   "id": "bae0aaf3",
   "metadata": {},
   "source": [
    "### Ejercicio resuelto 3: Mini-calculadora\n",
    "\n",
    "Función que recibe dos números y devuelve un diccionario con suma, resta, multiplicación, división y potencia."
   ]
  },
  {
   "cell_type": "code",
   "execution_count": 7,
   "id": "61e92120",
   "metadata": {},
   "outputs": [
    {
     "data": {
      "text/plain": [
       "{'suma': 10, 'resta': 6, 'multiplicacion': 16, 'division': 4.0, 'potencia': 64}"
      ]
     },
     "execution_count": 7,
     "metadata": {},
     "output_type": "execute_result"
    }
   ],
   "source": [
    "def mini_calculadora(x, y):\n",
    "    '''Devuelve operaciones básicas entre x y y.'''\n",
    "    resultados = {}\n",
    "    resultados['suma'] = x + y\n",
    "    resultados['resta'] = x - y\n",
    "    resultados['multiplicacion'] = x * y\n",
    "    resultados['division'] = None if y == 0 else x / y\n",
    "    resultados['potencia'] = x ** y\n",
    "    return resultados\n",
    "\n",
    "# Ejemplo resuelto\n",
    "mini_calculadora(8, 2)"
   ]
  },
  {
   "cell_type": "markdown",
   "id": "c0daba5d",
   "metadata": {},
   "source": [
    "## 4. Estructuras de datos: listas y diccionarios\n",
    "\n",
    "Explicación, métodos comunes y ejercicios resueltos."
   ]
  },
  {
   "cell_type": "markdown",
   "id": "7965474d",
   "metadata": {},
   "source": [
    "### 4.1 Listas (`list`)"
   ]
  },
  {
   "cell_type": "code",
   "execution_count": null,
   "id": "f97c6843",
   "metadata": {},
   "outputs": [],
   "source": [
    "# Listas: crear, indexar, métodos\n",
    "numeros = [10, 3, 5, 7, 2]\n",
    "print(\"Lista:\", numeros)\n",
    "print(\"Primer elemento:\", numeros[0])\n",
    "print(\"Últimos dos:\", numeros[-2:])\n",
    "numeros.append(12)\n",
    "numeros.sort()  # modifica la lista en sitio\n",
    "print(\"Después de append y sort:\", numeros)\n",
    "\n",
    "# Métodos útiles: pop, remove, insert, extend\n",
    "num = numeros.copy()\n",
    "num.remove(3)\n",
    "p = num.pop(0)  # elimina y devuelve el primer elemento\n",
    "print(\"num:\", num, \"popped:\", p)\n"
   ]
  },
  {
   "cell_type": "code",
   "execution_count": 12,
   "id": "bb0bc743",
   "metadata": {},
   "outputs": [
    {
     "data": {
      "text/plain": [
       "[1, 2]"
      ]
     },
     "execution_count": 12,
     "metadata": {},
     "output_type": "execute_result"
    }
   ],
   "source": [
    "miLista = [1,2]\n",
    "miLista"
   ]
  },
  {
   "cell_type": "code",
   "execution_count": 13,
   "id": "aae5c420",
   "metadata": {},
   "outputs": [
    {
     "data": {
      "text/plain": [
       "[1, 2, 1, 2, 1, 2, 1, 2, 1, 2, 1, 2, 1, 2, 1, 2, 1, 2, 1, 2]"
      ]
     },
     "execution_count": 13,
     "metadata": {},
     "output_type": "execute_result"
    }
   ],
   "source": [
    "miLista * 10 #repitiendo los elemento de la lista 10 veces"
   ]
  },
  {
   "cell_type": "code",
   "execution_count": 15,
   "id": "3210c3ef",
   "metadata": {},
   "outputs": [
    {
     "data": {
      "text/plain": [
       "1"
      ]
     },
     "execution_count": 15,
     "metadata": {},
     "output_type": "execute_result"
    }
   ],
   "source": [
    "# Puedo acceder a los elementos de la lista de la siguiente manera\n",
    "miLista[0]"
   ]
  },
  {
   "cell_type": "code",
   "execution_count": 16,
   "id": "8833752c",
   "metadata": {},
   "outputs": [
    {
     "data": {
      "text/plain": [
       "11"
      ]
     },
     "execution_count": 16,
     "metadata": {},
     "output_type": "execute_result"
    }
   ],
   "source": [
    "miLista[0] + 10"
   ]
  },
  {
   "cell_type": "code",
   "execution_count": 18,
   "id": "5592f225",
   "metadata": {},
   "outputs": [
    {
     "data": {
      "text/plain": [
       "['Jake',\n",
       " 'Rodriguez',\n",
       " 'Jake',\n",
       " 'Rodriguez',\n",
       " 'Jake',\n",
       " 'Rodriguez',\n",
       " 'Jake',\n",
       " 'Rodriguez',\n",
       " 'Jake',\n",
       " 'Rodriguez']"
      ]
     },
     "execution_count": 18,
     "metadata": {},
     "output_type": "execute_result"
    }
   ],
   "source": [
    "miLista2 = ['Jake', 'Rodriguez']\n",
    "miLista2*5"
   ]
  },
  {
   "cell_type": "markdown",
   "id": "afd99e15",
   "metadata": {},
   "source": [
    "**Ejercicio resuelto 4.1:** Calcular promedio de una lista de números."
   ]
  },
  {
   "cell_type": "code",
   "execution_count": 8,
   "id": "efd4058b",
   "metadata": {},
   "outputs": [
    {
     "data": {
      "text/plain": [
       "8.0"
      ]
     },
     "execution_count": 8,
     "metadata": {},
     "output_type": "execute_result"
    }
   ],
   "source": [
    "def promedio_lista(lst):\n",
    "    return sum(lst)/len(lst) if len(lst)>0 else None\n",
    "\n",
    "ej = [10, 7, 8, 9, 6]\n",
    "promedio_lista(ej)"
   ]
  },
  {
   "cell_type": "markdown",
   "id": "8648f454",
   "metadata": {},
   "source": [
    "### 4.2 Diccionarios (`dict`)"
   ]
  },
  {
   "cell_type": "code",
   "execution_count": 9,
   "id": "69e3d937",
   "metadata": {},
   "outputs": [
    {
     "name": "stdout",
     "output_type": "stream",
     "text": [
      "Nombre: Carlos\n",
      "Diccionario actualizado: {'nombre': 'Carlos', 'edad': 22, 'cursos': ['Math', 'Physics'], 'universidad': 'UNAM'}\n",
      "nombre -> Carlos\n",
      "edad -> 22\n",
      "cursos -> ['Math', 'Physics']\n",
      "universidad -> UNAM\n"
     ]
    }
   ],
   "source": [
    "# Diccionarios: creación y uso\n",
    "estudiante = {\"nombre\": \"Carlos\", \"edad\": 21, \"cursos\": [\"Math\", \"Physics\"]}\n",
    "print(\"Nombre:\", estudiante[\"nombre\"])\n",
    "# Añadir o actualizar\n",
    "estudiante[\"universidad\"] = \"UNAM\"\n",
    "estudiante[\"edad\"] = 22\n",
    "print(\"Diccionario actualizado:\", estudiante)\n",
    "\n",
    "# Iterar claves y valores\n",
    "for k, v in estudiante.items():\n",
    "    print(k, \"->\", v)\n"
   ]
  },
  {
   "cell_type": "markdown",
   "id": "a2e5e73c",
   "metadata": {},
   "source": [
    "**Ejercicio resuelto 4.2:** Crear un diccionario con información personal y calcular la edad en 5 años."
   ]
  },
  {
   "cell_type": "code",
   "execution_count": 11,
   "id": "5a2ee69e",
   "metadata": {},
   "outputs": [
    {
     "data": {
      "text/plain": [
       "35"
      ]
     },
     "execution_count": 11,
     "metadata": {},
     "output_type": "execute_result"
    }
   ],
   "source": [
    "persona = {\"nombre\": \"María\", \"edad\": 30, \"profesion\": \"Ingeniera\"}\n",
    "edad_futura = persona['edad'] + 5\n",
    "edad_futura"
   ]
  },
  {
   "cell_type": "markdown",
   "id": "978c73f3",
   "metadata": {},
   "source": [
    "## 5. Librerías esenciales: NumPy, Pandas, Matplotlib\n",
    "\n",
    "Explicación breve de cada librería y ejemplos prácticos con soluciones.\n"
   ]
  },
  {
   "cell_type": "markdown",
   "id": "5734159d",
   "metadata": {},
   "source": [
    "### 5.1 NumPy — arrays y operaciones vectorizadas"
   ]
  },
  {
   "cell_type": "markdown",
   "id": "39e6cfd7",
   "metadata": {},
   "source": [
    "Su uso principal es en:\n",
    "- vectores y matrices\n",
    "- operaciones matemáticas básicas\n",
    "- álgebra lineal\n",
    "- estadística básica"
   ]
  },
  {
   "cell_type": "code",
   "execution_count": 19,
   "id": "c9825d38",
   "metadata": {},
   "outputs": [
    {
     "name": "stdout",
     "output_type": "stream",
     "text": [
      "a: [1 2 3 4]\n",
      "b: [10 20 30 40]\n",
      "Suma vectorizada: [11 22 33 44]\n",
      "Media de a: 2.5 Desv. Std: 1.118033988749895\n"
     ]
    },
    {
     "data": {
      "text/plain": [
       "(array([0, 2, 4, 6, 8]), array([0.  , 0.25, 0.5 , 0.75, 1.  ]))"
      ]
     },
     "execution_count": 19,
     "metadata": {},
     "output_type": "execute_result"
    }
   ],
   "source": [
    "# !pip install numpy #Si no se tiene instalado \n",
    "import numpy as np #Importamos la libreria\n",
    "\n",
    "# Crear arrays y operaciones\n",
    "a = np.array([1, 2, 3, 4])\n",
    "b = np.array([10, 20, 30, 40])\n",
    "\n",
    "print(\"a:\", a)\n",
    "print(\"b:\", b)\n",
    "print(\"Suma vectorizada:\", a + b)\n",
    "print(\"Media de a:\", a.mean(), \"Desv. Std:\", a.std())\n",
    "\n",
    "# Operaciones útiles\n",
    "c = np.arange(0, 10, 2)  # [0,2,4,6,8]\n",
    "d = np.linspace(0, 1, 5)  # 5 valores equidistantes entre 0 y 1\n",
    "c, d"
   ]
  },
  {
   "cell_type": "markdown",
   "id": "d7b4b65f",
   "metadata": {},
   "source": [
    "Otro ejemplo muy claro seria el siguiente:"
   ]
  },
  {
   "cell_type": "code",
   "execution_count": 20,
   "id": "495ce251",
   "metadata": {},
   "outputs": [
    {
     "name": "stdout",
     "output_type": "stream",
     "text": [
      "La edad promedio es: 30.5\n"
     ]
    }
   ],
   "source": [
    "edades = np.array([28,35,36,28,31,25]) \n",
    "peso = np.array([64, 54, 65, 78, 86, 60])\n",
    "estatura = np.array([1.63, 1.60, 1.60, 1.85, 1.74, 1.76])\n",
    "print(f\"La edad promedio es: {edades.mean()}\")"
   ]
  },
  {
   "cell_type": "code",
   "execution_count": 21,
   "id": "2a86d379",
   "metadata": {},
   "outputs": [
    {
     "name": "stdout",
     "output_type": "stream",
     "text": [
      "[24.08822312 21.09375    25.390625   22.79035793 28.40533756 19.36983471]\n"
     ]
    }
   ],
   "source": [
    "# Índice de masa corporal (BMI)\n",
    "BMI = peso / estatura**2\n",
    "print(BMI)"
   ]
  },
  {
   "cell_type": "markdown",
   "id": "f16861b6",
   "metadata": {},
   "source": [
    "**Ejercicio resuelto 5.1:** Dado un array `x = np.array([2,4,6,8])`, calcular la media y la suma."
   ]
  },
  {
   "cell_type": "code",
   "execution_count": 22,
   "id": "4f37481a",
   "metadata": {},
   "outputs": [
    {
     "data": {
      "text/plain": [
       "(5.0, 20)"
      ]
     },
     "execution_count": 22,
     "metadata": {},
     "output_type": "execute_result"
    }
   ],
   "source": [
    "x = np.array([2,4,6,8])\n",
    "float(x.mean()), int(x.sum())"
   ]
  },
  {
   "cell_type": "markdown",
   "id": "460b99c3",
   "metadata": {},
   "source": [
    "### 5.2 Pandas — DataFrame y manipulación básica"
   ]
  },
  {
   "cell_type": "markdown",
   "id": "56e48e0a",
   "metadata": {},
   "source": [
    "Es una libreria que facilita el manejo de datos estructurados\n",
    "- tablas o bases de datos\n",
    "- series de tiempo\n",
    "- archivos csv, excel\n",
    "- Para el análisis de datos\n"
   ]
  },
  {
   "cell_type": "markdown",
   "id": "e90f70cd",
   "metadata": {},
   "source": [
    "Utilizando las variables de los ejercicios anteriores:"
   ]
  },
  {
   "cell_type": "code",
   "execution_count": 24,
   "id": "e72f7e37",
   "metadata": {},
   "outputs": [
    {
     "data": {
      "text/html": [
       "<div>\n",
       "<style scoped>\n",
       "    .dataframe tbody tr th:only-of-type {\n",
       "        vertical-align: middle;\n",
       "    }\n",
       "\n",
       "    .dataframe tbody tr th {\n",
       "        vertical-align: top;\n",
       "    }\n",
       "\n",
       "    .dataframe thead th {\n",
       "        text-align: right;\n",
       "    }\n",
       "</style>\n",
       "<table border=\"1\" class=\"dataframe\">\n",
       "  <thead>\n",
       "    <tr style=\"text-align: right;\">\n",
       "      <th></th>\n",
       "      <th>0</th>\n",
       "      <th>1</th>\n",
       "      <th>2</th>\n",
       "      <th>3</th>\n",
       "      <th>4</th>\n",
       "      <th>5</th>\n",
       "    </tr>\n",
       "  </thead>\n",
       "  <tbody>\n",
       "    <tr>\n",
       "      <th>0</th>\n",
       "      <td>28.00</td>\n",
       "      <td>35.0</td>\n",
       "      <td>36.0</td>\n",
       "      <td>28.00</td>\n",
       "      <td>31.00</td>\n",
       "      <td>25.00</td>\n",
       "    </tr>\n",
       "    <tr>\n",
       "      <th>1</th>\n",
       "      <td>64.00</td>\n",
       "      <td>54.0</td>\n",
       "      <td>65.0</td>\n",
       "      <td>78.00</td>\n",
       "      <td>86.00</td>\n",
       "      <td>60.00</td>\n",
       "    </tr>\n",
       "    <tr>\n",
       "      <th>2</th>\n",
       "      <td>1.63</td>\n",
       "      <td>1.6</td>\n",
       "      <td>1.6</td>\n",
       "      <td>1.85</td>\n",
       "      <td>1.74</td>\n",
       "      <td>1.76</td>\n",
       "    </tr>\n",
       "  </tbody>\n",
       "</table>\n",
       "</div>"
      ],
      "text/plain": [
       "       0     1     2      3      4      5\n",
       "0  28.00  35.0  36.0  28.00  31.00  25.00\n",
       "1  64.00  54.0  65.0  78.00  86.00  60.00\n",
       "2   1.63   1.6   1.6   1.85   1.74   1.76"
      ]
     },
     "execution_count": 24,
     "metadata": {},
     "output_type": "execute_result"
    }
   ],
   "source": [
    "import pandas as pd\n",
    "df = pd.DataFrame([edades, peso, estatura])\n",
    "df"
   ]
  },
  {
   "cell_type": "code",
   "execution_count": 25,
   "id": "be3f2fe6",
   "metadata": {},
   "outputs": [
    {
     "data": {
      "text/plain": [
       "{'Edad': array([28, 35, 36, 28, 31, 25]),\n",
       " 'Peso': array([64, 54, 65, 78, 86, 60]),\n",
       " 'Estatura': array([1.63, 1.6 , 1.6 , 1.85, 1.74, 1.76]),\n",
       " 'BMI': array([24.08822312, 21.09375   , 25.390625  , 22.79035793, 28.40533756,\n",
       "        19.36983471])}"
      ]
     },
     "execution_count": 25,
     "metadata": {},
     "output_type": "execute_result"
    }
   ],
   "source": [
    "# Vamos a crear un diccionario\n",
    "# { key : }\n",
    "\n",
    "diccionario = {'Edad': edades, 'Peso': peso, 'Estatura': estatura, 'BMI': BMI}\n",
    "diccionario\n"
   ]
  },
  {
   "cell_type": "code",
   "execution_count": 26,
   "id": "2ea22dd7",
   "metadata": {},
   "outputs": [
    {
     "data": {
      "text/html": [
       "<div>\n",
       "<style scoped>\n",
       "    .dataframe tbody tr th:only-of-type {\n",
       "        vertical-align: middle;\n",
       "    }\n",
       "\n",
       "    .dataframe tbody tr th {\n",
       "        vertical-align: top;\n",
       "    }\n",
       "\n",
       "    .dataframe thead th {\n",
       "        text-align: right;\n",
       "    }\n",
       "</style>\n",
       "<table border=\"1\" class=\"dataframe\">\n",
       "  <thead>\n",
       "    <tr style=\"text-align: right;\">\n",
       "      <th></th>\n",
       "      <th>Edad</th>\n",
       "      <th>Peso</th>\n",
       "      <th>Estatura</th>\n",
       "      <th>BMI</th>\n",
       "    </tr>\n",
       "  </thead>\n",
       "  <tbody>\n",
       "    <tr>\n",
       "      <th>0</th>\n",
       "      <td>28</td>\n",
       "      <td>64</td>\n",
       "      <td>1.63</td>\n",
       "      <td>24.088223</td>\n",
       "    </tr>\n",
       "    <tr>\n",
       "      <th>1</th>\n",
       "      <td>35</td>\n",
       "      <td>54</td>\n",
       "      <td>1.60</td>\n",
       "      <td>21.093750</td>\n",
       "    </tr>\n",
       "    <tr>\n",
       "      <th>2</th>\n",
       "      <td>36</td>\n",
       "      <td>65</td>\n",
       "      <td>1.60</td>\n",
       "      <td>25.390625</td>\n",
       "    </tr>\n",
       "    <tr>\n",
       "      <th>3</th>\n",
       "      <td>28</td>\n",
       "      <td>78</td>\n",
       "      <td>1.85</td>\n",
       "      <td>22.790358</td>\n",
       "    </tr>\n",
       "    <tr>\n",
       "      <th>4</th>\n",
       "      <td>31</td>\n",
       "      <td>86</td>\n",
       "      <td>1.74</td>\n",
       "      <td>28.405338</td>\n",
       "    </tr>\n",
       "    <tr>\n",
       "      <th>5</th>\n",
       "      <td>25</td>\n",
       "      <td>60</td>\n",
       "      <td>1.76</td>\n",
       "      <td>19.369835</td>\n",
       "    </tr>\n",
       "  </tbody>\n",
       "</table>\n",
       "</div>"
      ],
      "text/plain": [
       "   Edad  Peso  Estatura        BMI\n",
       "0    28    64      1.63  24.088223\n",
       "1    35    54      1.60  21.093750\n",
       "2    36    65      1.60  25.390625\n",
       "3    28    78      1.85  22.790358\n",
       "4    31    86      1.74  28.405338\n",
       "5    25    60      1.76  19.369835"
      ]
     },
     "execution_count": 26,
     "metadata": {},
     "output_type": "execute_result"
    }
   ],
   "source": [
    "df1 = pd.DataFrame(diccionario)\n",
    "df1"
   ]
  },
  {
   "cell_type": "code",
   "execution_count": 27,
   "id": "17df6c74",
   "metadata": {},
   "outputs": [
    {
     "data": {
      "text/html": [
       "<div>\n",
       "<style scoped>\n",
       "    .dataframe tbody tr th:only-of-type {\n",
       "        vertical-align: middle;\n",
       "    }\n",
       "\n",
       "    .dataframe tbody tr th {\n",
       "        vertical-align: top;\n",
       "    }\n",
       "\n",
       "    .dataframe thead th {\n",
       "        text-align: right;\n",
       "    }\n",
       "</style>\n",
       "<table border=\"1\" class=\"dataframe\">\n",
       "  <thead>\n",
       "    <tr style=\"text-align: right;\">\n",
       "      <th></th>\n",
       "      <th>Edad</th>\n",
       "      <th>Peso</th>\n",
       "      <th>Estatura</th>\n",
       "      <th>BMI</th>\n",
       "    </tr>\n",
       "  </thead>\n",
       "  <tbody>\n",
       "    <tr>\n",
       "      <th>1</th>\n",
       "      <td>35</td>\n",
       "      <td>54</td>\n",
       "      <td>1.60</td>\n",
       "      <td>21.093750</td>\n",
       "    </tr>\n",
       "    <tr>\n",
       "      <th>2</th>\n",
       "      <td>36</td>\n",
       "      <td>65</td>\n",
       "      <td>1.60</td>\n",
       "      <td>25.390625</td>\n",
       "    </tr>\n",
       "    <tr>\n",
       "      <th>4</th>\n",
       "      <td>31</td>\n",
       "      <td>86</td>\n",
       "      <td>1.74</td>\n",
       "      <td>28.405338</td>\n",
       "    </tr>\n",
       "  </tbody>\n",
       "</table>\n",
       "</div>"
      ],
      "text/plain": [
       "   Edad  Peso  Estatura        BMI\n",
       "1    35    54      1.60  21.093750\n",
       "2    36    65      1.60  25.390625\n",
       "4    31    86      1.74  28.405338"
      ]
     },
     "execution_count": 27,
     "metadata": {},
     "output_type": "execute_result"
    }
   ],
   "source": [
    "# Si quiero filtrar información de mi DataFrame\n",
    "\n",
    "# Los datos de las personas que son mayores a 30 años\n",
    "m30 = df1[df1['Edad'] > 30]\n",
    "m30"
   ]
  },
  {
   "cell_type": "code",
   "execution_count": 28,
   "id": "aa12c748",
   "metadata": {},
   "outputs": [
    {
     "data": {
      "text/html": [
       "<div>\n",
       "<style scoped>\n",
       "    .dataframe tbody tr th:only-of-type {\n",
       "        vertical-align: middle;\n",
       "    }\n",
       "\n",
       "    .dataframe tbody tr th {\n",
       "        vertical-align: top;\n",
       "    }\n",
       "\n",
       "    .dataframe thead th {\n",
       "        text-align: right;\n",
       "    }\n",
       "</style>\n",
       "<table border=\"1\" class=\"dataframe\">\n",
       "  <thead>\n",
       "    <tr style=\"text-align: right;\">\n",
       "      <th></th>\n",
       "      <th>Edad</th>\n",
       "      <th>Peso</th>\n",
       "      <th>Estatura</th>\n",
       "      <th>BMI</th>\n",
       "    </tr>\n",
       "  </thead>\n",
       "  <tbody>\n",
       "    <tr>\n",
       "      <th>1</th>\n",
       "      <td>35</td>\n",
       "      <td>54</td>\n",
       "      <td>1.6</td>\n",
       "      <td>21.093750</td>\n",
       "    </tr>\n",
       "    <tr>\n",
       "      <th>2</th>\n",
       "      <td>36</td>\n",
       "      <td>65</td>\n",
       "      <td>1.6</td>\n",
       "      <td>25.390625</td>\n",
       "    </tr>\n",
       "  </tbody>\n",
       "</table>\n",
       "</div>"
      ],
      "text/plain": [
       "   Edad  Peso  Estatura        BMI\n",
       "1    35    54       1.6  21.093750\n",
       "2    36    65       1.6  25.390625"
      ]
     },
     "execution_count": 28,
     "metadata": {},
     "output_type": "execute_result"
    }
   ],
   "source": [
    "# Los datos de las personas que son mayor o igual a 32 años\n",
    "m32 = df1[df1['Edad'] >= 32]\n",
    "m32"
   ]
  },
  {
   "cell_type": "code",
   "execution_count": 29,
   "id": "5c80d2be",
   "metadata": {},
   "outputs": [
    {
     "data": {
      "text/html": [
       "<div>\n",
       "<style scoped>\n",
       "    .dataframe tbody tr th:only-of-type {\n",
       "        vertical-align: middle;\n",
       "    }\n",
       "\n",
       "    .dataframe tbody tr th {\n",
       "        vertical-align: top;\n",
       "    }\n",
       "\n",
       "    .dataframe thead th {\n",
       "        text-align: right;\n",
       "    }\n",
       "</style>\n",
       "<table border=\"1\" class=\"dataframe\">\n",
       "  <thead>\n",
       "    <tr style=\"text-align: right;\">\n",
       "      <th></th>\n",
       "      <th>Edad</th>\n",
       "      <th>Peso</th>\n",
       "      <th>Estatura</th>\n",
       "      <th>BMI</th>\n",
       "    </tr>\n",
       "  </thead>\n",
       "  <tbody>\n",
       "    <tr>\n",
       "      <th>0</th>\n",
       "      <td>28</td>\n",
       "      <td>64</td>\n",
       "      <td>1.63</td>\n",
       "      <td>24.088223</td>\n",
       "    </tr>\n",
       "    <tr>\n",
       "      <th>1</th>\n",
       "      <td>35</td>\n",
       "      <td>54</td>\n",
       "      <td>1.60</td>\n",
       "      <td>21.093750</td>\n",
       "    </tr>\n",
       "  </tbody>\n",
       "</table>\n",
       "</div>"
      ],
      "text/plain": [
       "   Edad  Peso  Estatura        BMI\n",
       "0    28    64      1.63  24.088223\n",
       "1    35    54      1.60  21.093750"
      ]
     },
     "execution_count": 29,
     "metadata": {},
     "output_type": "execute_result"
    }
   ],
   "source": [
    "condicion1 = df1[(df1['Edad'] >=28) & (df1['Peso'] < 65)]\n",
    "condicion1"
   ]
  },
  {
   "cell_type": "markdown",
   "id": "1f03a990",
   "metadata": {},
   "source": [
    "Otro ejemplo sería el siguiente:"
   ]
  },
  {
   "cell_type": "code",
   "execution_count": 31,
   "id": "b5723c0a",
   "metadata": {},
   "outputs": [
    {
     "name": "stdout",
     "output_type": "stream",
     "text": [
      "Primeras filas:\n"
     ]
    },
    {
     "data": {
      "text/html": [
       "<div>\n",
       "<style scoped>\n",
       "    .dataframe tbody tr th:only-of-type {\n",
       "        vertical-align: middle;\n",
       "    }\n",
       "\n",
       "    .dataframe tbody tr th {\n",
       "        vertical-align: top;\n",
       "    }\n",
       "\n",
       "    .dataframe thead th {\n",
       "        text-align: right;\n",
       "    }\n",
       "</style>\n",
       "<table border=\"1\" class=\"dataframe\">\n",
       "  <thead>\n",
       "    <tr style=\"text-align: right;\">\n",
       "      <th></th>\n",
       "      <th>Nombre</th>\n",
       "      <th>Edad</th>\n",
       "      <th>Salario</th>\n",
       "    </tr>\n",
       "  </thead>\n",
       "  <tbody>\n",
       "    <tr>\n",
       "      <th>0</th>\n",
       "      <td>Ana</td>\n",
       "      <td>23</td>\n",
       "      <td>30000</td>\n",
       "    </tr>\n",
       "    <tr>\n",
       "      <th>1</th>\n",
       "      <td>Luis</td>\n",
       "      <td>25</td>\n",
       "      <td>35000</td>\n",
       "    </tr>\n",
       "    <tr>\n",
       "      <th>2</th>\n",
       "      <td>Pedro</td>\n",
       "      <td>22</td>\n",
       "      <td>28000</td>\n",
       "    </tr>\n",
       "    <tr>\n",
       "      <th>3</th>\n",
       "      <td>Sofia</td>\n",
       "      <td>24</td>\n",
       "      <td>32000</td>\n",
       "    </tr>\n",
       "    <tr>\n",
       "      <th>4</th>\n",
       "      <td>Diego</td>\n",
       "      <td>21</td>\n",
       "      <td>29000</td>\n",
       "    </tr>\n",
       "  </tbody>\n",
       "</table>\n",
       "</div>"
      ],
      "text/plain": [
       "  Nombre  Edad  Salario\n",
       "0    Ana    23    30000\n",
       "1   Luis    25    35000\n",
       "2  Pedro    22    28000\n",
       "3  Sofia    24    32000\n",
       "4  Diego    21    29000"
      ]
     },
     "metadata": {},
     "output_type": "display_data"
    },
    {
     "name": "stdout",
     "output_type": "stream",
     "text": [
      "\n",
      "Descripción numérica:\n"
     ]
    },
    {
     "data": {
      "text/html": [
       "<div>\n",
       "<style scoped>\n",
       "    .dataframe tbody tr th:only-of-type {\n",
       "        vertical-align: middle;\n",
       "    }\n",
       "\n",
       "    .dataframe tbody tr th {\n",
       "        vertical-align: top;\n",
       "    }\n",
       "\n",
       "    .dataframe thead th {\n",
       "        text-align: right;\n",
       "    }\n",
       "</style>\n",
       "<table border=\"1\" class=\"dataframe\">\n",
       "  <thead>\n",
       "    <tr style=\"text-align: right;\">\n",
       "      <th></th>\n",
       "      <th>Edad</th>\n",
       "      <th>Salario</th>\n",
       "    </tr>\n",
       "  </thead>\n",
       "  <tbody>\n",
       "    <tr>\n",
       "      <th>count</th>\n",
       "      <td>5.000000</td>\n",
       "      <td>5.000000</td>\n",
       "    </tr>\n",
       "    <tr>\n",
       "      <th>mean</th>\n",
       "      <td>23.000000</td>\n",
       "      <td>30800.000000</td>\n",
       "    </tr>\n",
       "    <tr>\n",
       "      <th>std</th>\n",
       "      <td>1.581139</td>\n",
       "      <td>2774.887385</td>\n",
       "    </tr>\n",
       "    <tr>\n",
       "      <th>min</th>\n",
       "      <td>21.000000</td>\n",
       "      <td>28000.000000</td>\n",
       "    </tr>\n",
       "    <tr>\n",
       "      <th>25%</th>\n",
       "      <td>22.000000</td>\n",
       "      <td>29000.000000</td>\n",
       "    </tr>\n",
       "    <tr>\n",
       "      <th>50%</th>\n",
       "      <td>23.000000</td>\n",
       "      <td>30000.000000</td>\n",
       "    </tr>\n",
       "    <tr>\n",
       "      <th>75%</th>\n",
       "      <td>24.000000</td>\n",
       "      <td>32000.000000</td>\n",
       "    </tr>\n",
       "    <tr>\n",
       "      <th>max</th>\n",
       "      <td>25.000000</td>\n",
       "      <td>35000.000000</td>\n",
       "    </tr>\n",
       "  </tbody>\n",
       "</table>\n",
       "</div>"
      ],
      "text/plain": [
       "            Edad       Salario\n",
       "count   5.000000      5.000000\n",
       "mean   23.000000  30800.000000\n",
       "std     1.581139   2774.887385\n",
       "min    21.000000  28000.000000\n",
       "25%    22.000000  29000.000000\n",
       "50%    23.000000  30000.000000\n",
       "75%    24.000000  32000.000000\n",
       "max    25.000000  35000.000000"
      ]
     },
     "metadata": {},
     "output_type": "display_data"
    },
    {
     "name": "stdout",
     "output_type": "stream",
     "text": [
      "\n",
      "Filtrado (Edad>23):\n"
     ]
    },
    {
     "data": {
      "text/html": [
       "<div>\n",
       "<style scoped>\n",
       "    .dataframe tbody tr th:only-of-type {\n",
       "        vertical-align: middle;\n",
       "    }\n",
       "\n",
       "    .dataframe tbody tr th {\n",
       "        vertical-align: top;\n",
       "    }\n",
       "\n",
       "    .dataframe thead th {\n",
       "        text-align: right;\n",
       "    }\n",
       "</style>\n",
       "<table border=\"1\" class=\"dataframe\">\n",
       "  <thead>\n",
       "    <tr style=\"text-align: right;\">\n",
       "      <th></th>\n",
       "      <th>Nombre</th>\n",
       "      <th>Edad</th>\n",
       "      <th>Salario</th>\n",
       "    </tr>\n",
       "  </thead>\n",
       "  <tbody>\n",
       "    <tr>\n",
       "      <th>1</th>\n",
       "      <td>Luis</td>\n",
       "      <td>25</td>\n",
       "      <td>35000</td>\n",
       "    </tr>\n",
       "    <tr>\n",
       "      <th>3</th>\n",
       "      <td>Sofia</td>\n",
       "      <td>24</td>\n",
       "      <td>32000</td>\n",
       "    </tr>\n",
       "  </tbody>\n",
       "</table>\n",
       "</div>"
      ],
      "text/plain": [
       "  Nombre  Edad  Salario\n",
       "1   Luis    25    35000\n",
       "3  Sofia    24    32000"
      ]
     },
     "metadata": {},
     "output_type": "display_data"
    }
   ],
   "source": [
    "import pandas as pd\n",
    "\n",
    "# Crear DataFrame\n",
    "data = {'Nombre': ['Ana', 'Luis', 'Pedro', 'Sofia', 'Diego'],\n",
    "        'Edad': [23, 25, 22, 24, 21],\n",
    "        'Salario': [30000, 35000, 28000, 32000, 29000]}\n",
    "df = pd.DataFrame(data)\n",
    "print(\"Primeras filas:\")\n",
    "display(df.head())\n",
    "\n",
    "# Información básica\n",
    "print(\"\\nDescripción numérica:\")\n",
    "display(df.describe())\n",
    "\n",
    "# Filtrado\n",
    "df_mayores_23 = df[df['Edad'] > 23]\n",
    "print(\"\\nFiltrado (Edad>23):\")\n",
    "display(df_mayores_23)\n"
   ]
  },
  {
   "cell_type": "markdown",
   "id": "63e78798",
   "metadata": {},
   "source": [
    "**Ejercicio resuelto 5.2:** Calcular el salario promedio y agregar una columna `SalarioAnual` (Salario * 12)."
   ]
  },
  {
   "cell_type": "code",
   "execution_count": 32,
   "id": "22f877b7",
   "metadata": {},
   "outputs": [
    {
     "data": {
      "text/plain": [
       "(np.float64(30800.0),\n",
       "   Nombre  Edad  Salario  SalarioAnual\n",
       " 0    Ana    23    30000        360000\n",
       " 1   Luis    25    35000        420000\n",
       " 2  Pedro    22    28000        336000\n",
       " 3  Sofia    24    32000        384000\n",
       " 4  Diego    21    29000        348000)"
      ]
     },
     "execution_count": 32,
     "metadata": {},
     "output_type": "execute_result"
    }
   ],
   "source": [
    "salario_prom = df['Salario'].mean()\n",
    "df['SalarioAnual'] = df['Salario'] * 12\n",
    "salario_prom, df"
   ]
  },
  {
   "cell_type": "markdown",
   "id": "05f2475c",
   "metadata": {},
   "source": [
    "### 5.3 Matplotlib — gráficos básicos"
   ]
  },
  {
   "cell_type": "markdown",
   "id": "d5f12c59",
   "metadata": {},
   "source": [
    "Matplotlib se usa principalmente para visualizar y representar datos en Python, permitiendo crear una amplia variedad de gráficos estáticos, interactivos y animados.\n",
    "Sus principales usos:\n",
    "- Gráficos de líneas \n",
    "- Histogramas \n",
    "- Diagramas de barras \n",
    "- Gráficos de dispersión \n",
    "- Gráficos de pastel (sectores) \n",
    "- Diagramas de caja y bigotes \n",
    "- Diagramas de contorno y mapas de colores \n",
    "- Gráficos de velas para datos financieros "
   ]
  },
  {
   "cell_type": "code",
   "execution_count": 34,
   "id": "3064c7de",
   "metadata": {},
   "outputs": [
    {
     "data": {
      "image/png": "[encoded data removed]",
      "text/plain": [
       "<Figure size 800x400 with 1 Axes>"
      ]
     },
     "metadata": {},
     "output_type": "display_data"
    }
   ],
   "source": [
    "import matplotlib.pyplot as plt\n",
    "\n",
    "ventas = [150, 200, 170, 220, 190]\n",
    "productos = ['A', 'B', 'C', 'D', 'E']\n",
    "\n",
    "plt.figure(figsize=(8,4))\n",
    "plt.bar(productos, ventas)\n",
    "plt.title(\"Ventas por producto (ejemplo)\")\n",
    "plt.xlabel(\"Producto\")\n",
    "plt.ylabel(\"Ventas (unidades)\")\n",
    "plt.grid(axis='y', linestyle='--', alpha=0.4)\n",
    "plt.show()"
   ]
  },
  {
   "cell_type": "markdown",
   "id": "61ba1428",
   "metadata": {},
   "source": [
    "**Ejercicio resuelto 5.3:** Crear un gráfico de líneas de las edades del DataFrame `df`."
   ]
  },
  {
   "cell_type": "code",
   "execution_count": 35,
   "id": "cb50964b",
   "metadata": {},
   "outputs": [
    {
     "data": {
      "image/png": "[encoded data removed]",
      "text/plain": [
       "<Figure size 600x300 with 1 Axes>"
      ]
     },
     "metadata": {},
     "output_type": "display_data"
    }
   ],
   "source": [
    "plt.figure(figsize=(6,3))\n",
    "plt.plot(df['Nombre'], df['Edad'], marker='o')\n",
    "plt.title(\"Edad por persona\")\n",
    "plt.xlabel(\"Nombre\")\n",
    "plt.ylabel(\"Edad\")\n",
    "plt.show()"
   ]
  },
  {
   "cell_type": "markdown",
   "id": "fcff8a33",
   "metadata": {},
   "source": [
    "## 6. Mini-proyectos (con solución paso a paso)\n",
    "\n",
    "A continuación tres mini-proyectos cortos, cada uno resuelto.\n"
   ]
  },
  {
   "cell_type": "markdown",
   "id": "288c2311",
   "metadata": {},
   "source": [
    "### Proyecto 1 — Sistema de calificaciones\n",
    "\n",
    "**Objetivo:** Dada una lista de diccionarios con estudiantes y sus calificaciones, calcular promedio por estudiante, indicar si aprobaron (>= 60) y promedio general."
   ]
  },
  {
   "cell_type": "code",
   "execution_count": 36,
   "id": "7adb0524",
   "metadata": {},
   "outputs": [
    {
     "data": {
      "text/html": [
       "<div>\n",
       "<style scoped>\n",
       "    .dataframe tbody tr th:only-of-type {\n",
       "        vertical-align: middle;\n",
       "    }\n",
       "\n",
       "    .dataframe tbody tr th {\n",
       "        vertical-align: top;\n",
       "    }\n",
       "\n",
       "    .dataframe thead th {\n",
       "        text-align: right;\n",
       "    }\n",
       "</style>\n",
       "<table border=\"1\" class=\"dataframe\">\n",
       "  <thead>\n",
       "    <tr style=\"text-align: right;\">\n",
       "      <th></th>\n",
       "      <th>nombre</th>\n",
       "      <th>promedio</th>\n",
       "      <th>aprobado</th>\n",
       "    </tr>\n",
       "  </thead>\n",
       "  <tbody>\n",
       "    <tr>\n",
       "      <th>0</th>\n",
       "      <td>Ana</td>\n",
       "      <td>85.333333</td>\n",
       "      <td>True</td>\n",
       "    </tr>\n",
       "    <tr>\n",
       "      <th>1</th>\n",
       "      <td>Luis</td>\n",
       "      <td>64.333333</td>\n",
       "      <td>True</td>\n",
       "    </tr>\n",
       "    <tr>\n",
       "      <th>2</th>\n",
       "      <td>Sofia</td>\n",
       "      <td>92.666667</td>\n",
       "      <td>True</td>\n",
       "    </tr>\n",
       "  </tbody>\n",
       "</table>\n",
       "</div>"
      ],
      "text/plain": [
       "  nombre   promedio  aprobado\n",
       "0    Ana  85.333333      True\n",
       "1   Luis  64.333333      True\n",
       "2  Sofia  92.666667      True"
      ]
     },
     "metadata": {},
     "output_type": "display_data"
    }
   ],
   "source": [
    "estudiantes = [\n",
    "    {'nombre': 'Ana', 'calificaciones': [88, 76, 92]},\n",
    "    {'nombre': 'Luis', 'calificaciones': [65, 70, 58]},\n",
    "    {'nombre': 'Sofia', 'calificaciones': [90, 95, 93]}\n",
    "]\n",
    "\n",
    "# Solución\n",
    "resultados = []\n",
    "for e in estudiantes:\n",
    "    nombre = e['nombre']\n",
    "    notas = e['calificaciones']\n",
    "    promedio = sum(notas)/len(notas)\n",
    "    aprobado = promedio >= 60\n",
    "    resultados.append({'nombre': nombre, 'promedio': promedio, 'aprobado': aprobado})\n",
    "\n",
    "import pandas as pd\n",
    "display(pd.DataFrame(resultados))"
   ]
  },
  {
   "cell_type": "markdown",
   "id": "97177035",
   "metadata": {},
   "source": [
    "### Proyecto 2 — Ventas y gráfico\n",
    "\n",
    "**Objetivo:** Dado un diccionario con ventas mensuales, crear un DataFrame, calcular total y graficar."
   ]
  },
  {
   "cell_type": "code",
   "execution_count": 37,
   "id": "aa8d127f",
   "metadata": {},
   "outputs": [
    {
     "data": {
      "text/html": [
       "<div>\n",
       "<style scoped>\n",
       "    .dataframe tbody tr th:only-of-type {\n",
       "        vertical-align: middle;\n",
       "    }\n",
       "\n",
       "    .dataframe tbody tr th {\n",
       "        vertical-align: top;\n",
       "    }\n",
       "\n",
       "    .dataframe thead th {\n",
       "        text-align: right;\n",
       "    }\n",
       "</style>\n",
       "<table border=\"1\" class=\"dataframe\">\n",
       "  <thead>\n",
       "    <tr style=\"text-align: right;\">\n",
       "      <th></th>\n",
       "      <th>mes</th>\n",
       "      <th>ventas</th>\n",
       "      <th>ventas_acum</th>\n",
       "    </tr>\n",
       "  </thead>\n",
       "  <tbody>\n",
       "    <tr>\n",
       "      <th>0</th>\n",
       "      <td>Ene</td>\n",
       "      <td>1200</td>\n",
       "      <td>1200</td>\n",
       "    </tr>\n",
       "    <tr>\n",
       "      <th>1</th>\n",
       "      <td>Feb</td>\n",
       "      <td>1500</td>\n",
       "      <td>2700</td>\n",
       "    </tr>\n",
       "    <tr>\n",
       "      <th>2</th>\n",
       "      <td>Mar</td>\n",
       "      <td>1100</td>\n",
       "      <td>3800</td>\n",
       "    </tr>\n",
       "    <tr>\n",
       "      <th>3</th>\n",
       "      <td>Abr</td>\n",
       "      <td>1700</td>\n",
       "      <td>5500</td>\n",
       "    </tr>\n",
       "    <tr>\n",
       "      <th>4</th>\n",
       "      <td>May</td>\n",
       "      <td>1600</td>\n",
       "      <td>7100</td>\n",
       "    </tr>\n",
       "    <tr>\n",
       "      <th>5</th>\n",
       "      <td>Jun</td>\n",
       "      <td>1800</td>\n",
       "      <td>8900</td>\n",
       "    </tr>\n",
       "  </tbody>\n",
       "</table>\n",
       "</div>"
      ],
      "text/plain": [
       "   mes  ventas  ventas_acum\n",
       "0  Ene    1200         1200\n",
       "1  Feb    1500         2700\n",
       "2  Mar    1100         3800\n",
       "3  Abr    1700         5500\n",
       "4  May    1600         7100\n",
       "5  Jun    1800         8900"
      ]
     },
     "metadata": {},
     "output_type": "display_data"
    },
    {
     "data": {
      "image/png": "[encoded data removed]",
      "text/plain": [
       "<Figure size 800x400 with 1 Axes>"
      ]
     },
     "metadata": {},
     "output_type": "display_data"
    }
   ],
   "source": [
    "ventas_mensuales = {'mes': ['Ene','Feb','Mar','Abr','May','Jun'],\n",
    "                     'ventas': [1200, 1500, 1100, 1700, 1600, 1800]}\n",
    "\n",
    "df_ventas = pd.DataFrame(ventas_mensuales)\n",
    "df_ventas['ventas_acum'] = df_ventas['ventas'].cumsum()\n",
    "\n",
    "display(df_ventas)\n",
    "\n",
    "# Gráfico\n",
    "plt.figure(figsize=(8,4))\n",
    "plt.plot(df_ventas['mes'], df_ventas['ventas'], marker='o')\n",
    "plt.title(\"Ventas mensuales\")\n",
    "plt.xlabel(\"Mes\")\n",
    "plt.ylabel(\"Ventas\")\n",
    "plt.grid(linestyle='--', alpha=0.5)\n",
    "plt.show()"
   ]
  },
  {
   "cell_type": "markdown",
   "id": "80f5c870",
   "metadata": {},
   "source": [
    "### Proyecto 3 — Exploración rápida con Pandas\n",
    "\n",
    "**Objetivo:** Crear un DataFrame de empleados, calcular salario promedio y mostrar los 2 empleados con mayor salario."
   ]
  },
  {
   "cell_type": "code",
   "execution_count": 38,
   "id": "e4aca626",
   "metadata": {},
   "outputs": [
    {
     "data": {
      "text/plain": [
       "(np.float64(43400.0),\n",
       "   nombre  edad  salario\n",
       " 3  Sofia    40    60000\n",
       " 1   Luis    34    52000)"
      ]
     },
     "execution_count": 38,
     "metadata": {},
     "output_type": "execute_result"
    }
   ],
   "source": [
    "empleados = pd.DataFrame({\n",
    "    'nombre': ['Ana','Luis','Pedro','Sofia','Diego'],\n",
    "    'edad': [28,34,29,40,23],\n",
    "    'salario': [40000, 52000, 35000, 60000, 30000]\n",
    "})\n",
    "\n",
    "salario_prom = empleados['salario'].mean()\n",
    "top2 = empleados.sort_values('salario', ascending=False).head(2)\n",
    "\n",
    "salario_prom, top2"
   ]
  },
  {
   "cell_type": "markdown",
   "id": "4229c87c",
   "metadata": {},
   "source": [
    "## 7. Conclusión y recursos\n",
    "\n",
    "Resumen de lo aprendido y recursos para continuar:\n",
    "\n",
    "- Documentación oficial: https://docs.python.org/3/\n",
    "- Tutorial interactivo: https://realpython.com/\n",
    "\n",
    "---\n",
    "**Siguientes pasos sugeridos:** control de flujo (`if`, `for`, `while`), funciones, manejo de archivos y programación orientada a objetos."
   ]
  }
 ],
 "metadata": {
  "kernelspec": {
   "display_name": "base",
   "language": "python",
   "name": "python3"
  },
  "language_info": {
   "codemirror_mode": {
    "name": "ipython",
    "version": 3
   },
   "file_extension": ".py",
   "mimetype": "text/x-python",
   "name": "python",
   "nbconvert_exporter": "python",
   "pygments_lexer": "ipython3",
   "version": "3.13.5"
  }
 },
 "nbformat": 4,
 "nbformat_minor": 5
}
